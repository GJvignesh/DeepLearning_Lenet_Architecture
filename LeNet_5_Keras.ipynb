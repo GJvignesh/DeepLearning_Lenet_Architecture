{
  "nbformat": 4,
  "nbformat_minor": 0,
  "metadata": {
    "colab": {
      "name": "LeNet-5_Keras.ipynb",
      "provenance": [],
      "collapsed_sections": []
    },
    "kernelspec": {
      "name": "python3",
      "display_name": "Python 3"
    },
    "accelerator": "GPU"
  },
  "cells": [
    {
      "cell_type": "code",
      "metadata": {
        "id": "v3nlzIpWR4VZ",
        "colab_type": "code",
        "colab": {}
      },
      "source": [
        "# Learning links:\n",
        "\n",
        "#  https://colab.research.google.com/drive/1CVm50PGE4vhtB5I_a_yc4h5F-itKOVL9#scrollTo=4Z8873a3oprU\n",
        "\n",
        "#  https://pythonmachinelearning.pro/introduction-to-convolutional-neural-networks-for-vision-tasks/"
      ],
      "execution_count": 0,
      "outputs": []
    },
    {
      "cell_type": "markdown",
      "metadata": {
        "id": "cI3nYrwrF8rO",
        "colab_type": "text"
      },
      "source": [
        "\n",
        "#### Architecture\n",
        "* **Convolutional #1** outputs 28x28x6\n",
        "    * **Activation** any activation function, we will `relu`\n",
        "\n",
        "* **Pooling #1** The output shape should be 14x14x6.\n",
        "\n",
        "* **Convolutional #2** outputs 10x10x16.\n",
        "    * **Activation** any activation function, we will `relu`\n",
        "\n",
        "* **Pooling #2** outputs 5x5x16.\n",
        "    * **Flatten** Flatten the output shape of the final pooling layer\n",
        "\n",
        "* **Fully Connected #1** outputs 120\n",
        "    * **Activation** any activation function, we will `relu`\n",
        "\n",
        "* **Fully Connected #2** outputs 84\n",
        "    * **Activation** any activation function, we will `relu`\n",
        "\n",
        "* **Fully Connected (Logits) #3** outpute 10\n"
      ]
    },
    {
      "cell_type": "markdown",
      "metadata": {
        "id": "HKwn8HL3QW_n",
        "colab_type": "text"
      },
      "source": [
        "### Download Using URL CODE:"
      ]
    },
    {
      "cell_type": "code",
      "metadata": {
        "id": "IfVJ65DHQa_k",
        "colab_type": "code",
        "colab": {}
      },
      "source": [
        "from requests import get\n",
        "\n",
        "def download_file(url, file_name):\n",
        "    with open(file_name, \"wb\") as file:\n",
        "        response = get(url)\n",
        "        file.write(response.content)"
      ],
      "execution_count": 0,
      "outputs": []
    },
    {
      "cell_type": "code",
      "metadata": {
        "id": "MVQUWXvwQa8E",
        "colab_type": "code",
        "colab": {}
      },
      "source": [
        "download_file('http://yann.lecun.com/exdb/mnist/train-images-idx3-ubyte.gz', 'train-images-idx3-ubyte.gz')\n",
        "download_file('http://yann.lecun.com/exdb/mnist/train-labels-idx1-ubyte.gz', 'train-labels-idx1-ubyte.gz')\n",
        "download_file('http://yann.lecun.com/exdb/mnist/t10k-images-idx3-ubyte.gz', 't10k-images-idx3-ubyte.gz')\n",
        "download_file('http://yann.lecun.com/exdb/mnist/t10k-labels-idx1-ubyte.gz', 't10k-labels-idx1-ubyte.gz')"
      ],
      "execution_count": 0,
      "outputs": []
    },
    {
      "cell_type": "markdown",
      "metadata": {
        "id": "AKLeObhFQeZz",
        "colab_type": "text"
      },
      "source": [
        "### Importing the dataset from Keras itself:"
      ]
    },
    {
      "cell_type": "code",
      "metadata": {
        "id": "sytf_aLZj5ma",
        "colab_type": "code",
        "colab": {
          "base_uri": "https://localhost:8080/",
          "height": 34
        },
        "outputId": "923fb317-5ec6-40ec-b180-2fd9e3b602e4"
      },
      "source": [
        "from __future__ import print_function\n",
        "import keras\n",
        "from keras.datasets import mnist\n",
        "from keras.models import Sequential\n",
        "from keras.layers import Dense, Dropout, Flatten\n",
        "from keras.layers import Conv2D, MaxPooling2D, AveragePooling2D\n",
        "from keras.layers.normalization import BatchNormalization\n",
        "from keras import backend as K"
      ],
      "execution_count": 3,
      "outputs": [
        {
          "output_type": "stream",
          "text": [
            "Using TensorFlow backend.\n"
          ],
          "name": "stderr"
        }
      ]
    },
    {
      "cell_type": "code",
      "metadata": {
        "id": "T2FDQxcQGa1e",
        "colab_type": "code",
        "colab": {}
      },
      "source": [
        "# the data, split between train and test sets\n",
        "(x_train, y_train), (x_test, y_test) = mnist.load_data()"
      ],
      "execution_count": 0,
      "outputs": []
    },
    {
      "cell_type": "code",
      "metadata": {
        "id": "xXfQnntoGa0M",
        "colab_type": "code",
        "colab": {
          "base_uri": "https://localhost:8080/",
          "height": 85
        },
        "outputId": "5c6af4c3-d85c-4428-dca4-4b833246a04c"
      },
      "source": [
        "print(x_train.shape)\n",
        "print(y_train.shape)\n",
        "print(x_test.shape)\n",
        "print(y_test.shape)"
      ],
      "execution_count": 5,
      "outputs": [
        {
          "output_type": "stream",
          "text": [
            "(60000, 28, 28)\n",
            "(60000,)\n",
            "(10000, 28, 28)\n",
            "(10000,)\n"
          ],
          "name": "stdout"
        }
      ]
    },
    {
      "cell_type": "markdown",
      "metadata": {
        "id": "dVaVjQ9_Tmad",
        "colab_type": "text"
      },
      "source": [
        "### Displaying the image"
      ]
    },
    {
      "cell_type": "code",
      "metadata": {
        "id": "vn7piIa0Gay8",
        "colab_type": "code",
        "colab": {
          "base_uri": "https://localhost:8080/",
          "height": 269
        },
        "outputId": "97f19295-f5ec-4ea1-9709-1f9b6e9d6eb0"
      },
      "source": [
        "# Plotting the Image for understanding................\n",
        "from matplotlib import pyplot as plt\n",
        "plt.imshow(x_train[0], interpolation='nearest')\n",
        "plt.show()"
      ],
      "execution_count": 6,
      "outputs": [
        {
          "output_type": "display_data",
          "data": {
            "image/png": "[encoded data removed]",
            "text/plain": [
              "<Figure size 432x288 with 1 Axes>"
            ]
          },
          "metadata": {
            "tags": []
          }
        }
      ]
    },
    {
      "cell_type": "code",
      "metadata": {
        "id": "om3M91yUGasv",
        "colab_type": "code",
        "colab": {
          "base_uri": "https://localhost:8080/",
          "height": 34
        },
        "outputId": "b09d6e2a-7597-471b-a36f-afc8a12580df"
      },
      "source": [
        "K.image_data_format()"
      ],
      "execution_count": 7,
      "outputs": [
        {
          "output_type": "execute_result",
          "data": {
            "text/plain": [
              "'channels_last'"
            ]
          },
          "metadata": {
            "tags": []
          },
          "execution_count": 7
        }
      ]
    },
    {
      "cell_type": "code",
      "metadata": {
        "id": "Pa16vH_uIl3k",
        "colab_type": "code",
        "colab": {}
      },
      "source": [
        "# input image dimensions\n",
        "img_rows, img_cols = 28, 28"
      ],
      "execution_count": 0,
      "outputs": []
    },
    {
      "cell_type": "markdown",
      "metadata": {
        "id": "fxS_HTMfTq7K",
        "colab_type": "text"
      },
      "source": [
        "### Creating the channels, since it is grey scale, we are creating one channel"
      ]
    },
    {
      "cell_type": "code",
      "metadata": {
        "id": "h7DEgzHOGapL",
        "colab_type": "code",
        "colab": {}
      },
      "source": [
        "# Creating channels\n",
        "\n",
        "if K.image_data_format() == 'channels_first':\n",
        "    x_train = x_train.reshape(x_train.shape[0], 1, img_rows, img_cols)\n",
        "    x_test = x_test.reshape(x_test.shape[0], 1, img_rows, img_cols)\n",
        "    input_shape = (1, img_rows, img_cols)\n",
        "else:\n",
        "    x_train = x_train.reshape(x_train.shape[0], img_rows, img_cols, 1)\n",
        "    x_test = x_test.reshape(x_test.shape[0], img_rows, img_cols, 1)\n",
        "    input_shape = (img_rows, img_cols, 1)"
      ],
      "execution_count": 0,
      "outputs": []
    },
    {
      "cell_type": "markdown",
      "metadata": {
        "id": "rem7P6xVTzS7",
        "colab_type": "text"
      },
      "source": [
        "### Padding in input dataset (28X28 to 32x32) since Lenet uses 32X32 as input"
      ]
    },
    {
      "cell_type": "code",
      "metadata": {
        "id": "x7U2rbtUUNww",
        "colab_type": "code",
        "colab": {
          "base_uri": "https://localhost:8080/",
          "height": 85
        },
        "outputId": "454c9424-37b0-4b53-8f12-aa3d6fc9ebb0"
      },
      "source": [
        "print(x_train.shape)\n",
        "print(y_train.shape)\n",
        "print(x_test.shape)\n",
        "print(y_test.shape)"
      ],
      "execution_count": 10,
      "outputs": [
        {
          "output_type": "stream",
          "text": [
            "(60000, 28, 28, 1)\n",
            "(60000,)\n",
            "(10000, 28, 28, 1)\n",
            "(10000,)\n"
          ],
          "name": "stdout"
        }
      ]
    },
    {
      "cell_type": "code",
      "metadata": {
        "id": "suWRyLD4T85o",
        "colab_type": "code",
        "colab": {}
      },
      "source": [
        "import numpy as np\n",
        "x_train = np.pad(x_train, ((0,0),(2,2),(2,2),(0,0)), 'constant')\n",
        "x_test = np.pad(x_test, ((0,0),(2,2),(2,2),(0,0)), 'constant')"
      ],
      "execution_count": 0,
      "outputs": []
    },
    {
      "cell_type": "code",
      "metadata": {
        "id": "v_hlZ7SnUIlE",
        "colab_type": "code",
        "colab": {
          "base_uri": "https://localhost:8080/",
          "height": 85
        },
        "outputId": "9bc50aa0-1c04-40f3-f699-a2f02b231ff2"
      },
      "source": [
        "print(x_train.shape)\n",
        "print(y_train.shape)\n",
        "print(x_test.shape)\n",
        "print(y_test.shape)"
      ],
      "execution_count": 12,
      "outputs": [
        {
          "output_type": "stream",
          "text": [
            "(60000, 32, 32, 1)\n",
            "(60000,)\n",
            "(10000, 32, 32, 1)\n",
            "(10000,)\n"
          ],
          "name": "stdout"
        }
      ]
    },
    {
      "cell_type": "markdown",
      "metadata": {
        "id": "vHEwQK8TU16n",
        "colab_type": "text"
      },
      "source": [
        "### Some preprocessing"
      ]
    },
    {
      "cell_type": "code",
      "metadata": {
        "id": "zjrMB3LKUyT6",
        "colab_type": "code",
        "colab": {
          "base_uri": "https://localhost:8080/",
          "height": 68
        },
        "outputId": "9435cde0-e0eb-4801-ee9a-1e2fcac79460"
      },
      "source": [
        "\n",
        "x_train = x_train.astype('float32')\n",
        "x_test = x_test.astype('float32')\n",
        "x_train /= 255\n",
        "x_test /= 255\n",
        "print('x_train shape:', x_train.shape)\n",
        "print(x_train.shape[0], 'train samples')\n",
        "print(x_test.shape[0], 'test samples')"
      ],
      "execution_count": 13,
      "outputs": [
        {
          "output_type": "stream",
          "text": [
            "x_train shape: (60000, 32, 32, 1)\n",
            "60000 train samples\n",
            "10000 test samples\n"
          ],
          "name": "stdout"
        }
      ]
    },
    {
      "cell_type": "code",
      "metadata": {
        "id": "r06qcToKU6aP",
        "colab_type": "code",
        "colab": {
          "base_uri": "https://localhost:8080/",
          "height": 34
        },
        "outputId": "b6011da7-adb3-4c10-be12-7e7cc79f4570"
      },
      "source": [
        "# before vectorization\n",
        "y_train[0]"
      ],
      "execution_count": 14,
      "outputs": [
        {
          "output_type": "execute_result",
          "data": {
            "text/plain": [
              "5"
            ]
          },
          "metadata": {
            "tags": []
          },
          "execution_count": 14
        }
      ]
    },
    {
      "cell_type": "code",
      "metadata": {
        "id": "CSkFOEU1U6Wo",
        "colab_type": "code",
        "colab": {}
      },
      "source": [
        "# convert class vectors to binary class matrices\n",
        "y_train = keras.utils.to_categorical(y_train, 10)\n",
        "y_test = keras.utils.to_categorical(y_test, 10)"
      ],
      "execution_count": 0,
      "outputs": []
    },
    {
      "cell_type": "code",
      "metadata": {
        "id": "VKprlVHJU9ZY",
        "colab_type": "code",
        "colab": {
          "base_uri": "https://localhost:8080/",
          "height": 34
        },
        "outputId": "2d7af066-cc55-432f-c475-d4217cf71cc3"
      },
      "source": [
        "# after vectorization\n",
        "y_train[0]"
      ],
      "execution_count": 17,
      "outputs": [
        {
          "output_type": "execute_result",
          "data": {
            "text/plain": [
              "array([0., 0., 0., 0., 0., 1., 0., 0., 0., 0.], dtype=float32)"
            ]
          },
          "metadata": {
            "tags": []
          },
          "execution_count": 17
        }
      ]
    },
    {
      "cell_type": "markdown",
      "metadata": {
        "id": "xlxDTk3LVG7D",
        "colab_type": "text"
      },
      "source": [
        "### Froming the LeNet Architecture"
      ]
    },
    {
      "cell_type": "code",
      "metadata": {
        "id": "Qd1TaF4JJpXT",
        "colab_type": "code",
        "colab": {}
      },
      "source": [
        "\"\"\"\n",
        "# Orginal Code :\n",
        "\n",
        "# Link : https://medium.com/@mgazar/lenet-5-in-9-lines-of-code-using-keras-ac99294c8086\n",
        "\n",
        "model = keras.Sequential()\n",
        "\n",
        "model.add(layers.Conv2D(filters=6, kernel_size=(3, 3), activation='relu', input_shape=(32,32,1)))\n",
        "model.add(layers.AveragePooling2D())\n",
        "\n",
        "model.add(layers.Conv2D(filters=16, kernel_size=(3, 3), activation='relu'))\n",
        "model.add(layers.AveragePooling2D())\n",
        "\n",
        "model.add(layers.Flatten())\n",
        "\n",
        "model.add(layers.Dense(units=120, activation='relu'))\n",
        "\n",
        "model.add(layers.Dense(units=84, activation='relu'))\n",
        "\n",
        "model.add(layers.Dense(units=10, activation = 'softmax'))\n",
        "\n",
        "\"\"\""
      ],
      "execution_count": 0,
      "outputs": []
    },
    {
      "cell_type": "code",
      "metadata": {
        "id": "D3Cgl5vrBi6y",
        "colab_type": "code",
        "colab": {
          "base_uri": "https://localhost:8080/",
          "height": 173
        },
        "outputId": "a87c8de2-992f-4d7e-cbee-324e8716ade3"
      },
      "source": [
        "# Modified Code as per Lenet\n",
        "\n",
        "model = keras.Sequential()\n",
        "\n",
        "# Convolution #1. Input = 32x32x1. Output = 28x28x6 conv2d | (32-5+1 = 28), hence we shoud use 5X5 kernel \n",
        "model.add(Conv2D(filters=6, kernel_size=(5, 5), activation='sigmoid', input_shape=(32,32,1)))  \n",
        "\n",
        "# SubSampling #1. Input = 28x28x6. Output = 14x14x6. SubSampling is simply Average Pooling so we use avg_pool\n",
        "model.add(AveragePooling2D())\n",
        "\n",
        "# Convolution #2. Input = 14x14x6. Output = 10x10x16 conv2d\n",
        "model.add(Conv2D(filters=16, kernel_size=(5, 5), activation='sigmoid'))\n",
        "\n",
        "# SubSampling #2. Input = 10x10x16. Output = 5x5x16 avg_pool\n",
        "model.add(AveragePooling2D())\n",
        "\n",
        "model.add(Flatten())\n",
        "\n",
        "# Fully Connected #1. Input = 5x5x16. Output = 120\n",
        "model.add(Dense(units=120, activation='sigmoid'))\n",
        "\n",
        "# Fully Connected #2. Input = 120. Output = 84\n",
        "model.add(Dense(units=84, activation='sigmoid'))\n",
        "\n",
        "# Output 10\n",
        "model.add(Dense(units=10, activation = 'softmax'))\n"
      ],
      "execution_count": 19,
      "outputs": [
        {
          "output_type": "stream",
          "text": [
            "WARNING:tensorflow:From /usr/local/lib/python3.6/dist-packages/keras/backend/tensorflow_backend.py:66: The name tf.get_default_graph is deprecated. Please use tf.compat.v1.get_default_graph instead.\n",
            "\n",
            "WARNING:tensorflow:From /usr/local/lib/python3.6/dist-packages/keras/backend/tensorflow_backend.py:541: The name tf.placeholder is deprecated. Please use tf.compat.v1.placeholder instead.\n",
            "\n",
            "WARNING:tensorflow:From /usr/local/lib/python3.6/dist-packages/keras/backend/tensorflow_backend.py:4432: The name tf.random_uniform is deprecated. Please use tf.random.uniform instead.\n",
            "\n",
            "WARNING:tensorflow:From /usr/local/lib/python3.6/dist-packages/keras/backend/tensorflow_backend.py:4271: The name tf.nn.avg_pool is deprecated. Please use tf.nn.avg_pool2d instead.\n",
            "\n"
          ],
          "name": "stdout"
        }
      ]
    },
    {
      "cell_type": "code",
      "metadata": {
        "id": "4lUdiGVHBi3a",
        "colab_type": "code",
        "colab": {
          "base_uri": "https://localhost:8080/",
          "height": 141
        },
        "outputId": "7a0c6f16-5de5-424c-ceac-94125daf2878"
      },
      "source": [
        "from keras.utils import plot_model\n",
        "plot_model(model, to_file='model.png', show_shapes=True, rankdir='LR', expand_nested=True)"
      ],
      "execution_count": 20,
      "outputs": [
        {
          "output_type": "execute_result",
          "data": {
            "image/png": "[encoded data removed]",
            "text/plain": [
              "<IPython.core.display.Image object>"
            ]
          },
          "metadata": {
            "tags": []
          },
          "execution_count": 20
        }
      ]
    },
    {
      "cell_type": "code",
      "metadata": {
        "id": "LmodFtiqBi1C",
        "colab_type": "code",
        "colab": {
          "base_uri": "https://localhost:8080/",
          "height": 425
        },
        "outputId": "afd361d3-399a-47e8-9ff2-d8ff807d6a8e"
      },
      "source": [
        "model.summary()"
      ],
      "execution_count": 21,
      "outputs": [
        {
          "output_type": "stream",
          "text": [
            "Model: \"sequential_1\"\n",
            "_________________________________________________________________\n",
            "Layer (type)                 Output Shape              Param #   \n",
            "=================================================================\n",
            "conv2d_1 (Conv2D)            (None, 28, 28, 6)         156       \n",
            "_________________________________________________________________\n",
            "average_pooling2d_1 (Average (None, 14, 14, 6)         0         \n",
            "_________________________________________________________________\n",
            "conv2d_2 (Conv2D)            (None, 10, 10, 16)        2416      \n",
            "_________________________________________________________________\n",
            "average_pooling2d_2 (Average (None, 5, 5, 16)          0         \n",
            "_________________________________________________________________\n",
            "flatten_1 (Flatten)          (None, 400)               0         \n",
            "_________________________________________________________________\n",
            "dense_1 (Dense)              (None, 120)               48120     \n",
            "_________________________________________________________________\n",
            "dense_2 (Dense)              (None, 84)                10164     \n",
            "_________________________________________________________________\n",
            "dense_3 (Dense)              (None, 10)                850       \n",
            "=================================================================\n",
            "Total params: 61,706\n",
            "Trainable params: 61,706\n",
            "Non-trainable params: 0\n",
            "_________________________________________________________________\n"
          ],
          "name": "stdout"
        }
      ]
    },
    {
      "cell_type": "markdown",
      "metadata": {
        "id": "_FzxDnpaVMFs",
        "colab_type": "text"
      },
      "source": [
        "### Compiling the model"
      ]
    },
    {
      "cell_type": "code",
      "metadata": {
        "id": "LxUeWgLTQVVg",
        "colab_type": "code",
        "colab": {
          "base_uri": "https://localhost:8080/",
          "height": 85
        },
        "outputId": "cd9dd5f5-8c35-4408-8714-907b71d44ead"
      },
      "source": [
        "model.compile(loss=keras.losses.categorical_crossentropy,\n",
        "    optimizer = keras.optimizers.Adam(),\n",
        "    metrics = ['accuracy']\n",
        ")"
      ],
      "execution_count": 23,
      "outputs": [
        {
          "output_type": "stream",
          "text": [
            "WARNING:tensorflow:From /usr/local/lib/python3.6/dist-packages/keras/optimizers.py:793: The name tf.train.Optimizer is deprecated. Please use tf.compat.v1.train.Optimizer instead.\n",
            "\n",
            "WARNING:tensorflow:From /usr/local/lib/python3.6/dist-packages/keras/backend/tensorflow_backend.py:3576: The name tf.log is deprecated. Please use tf.math.log instead.\n",
            "\n"
          ],
          "name": "stdout"
        }
      ]
    },
    {
      "cell_type": "markdown",
      "metadata": {
        "id": "_EajhWcIVxZm",
        "colab_type": "text"
      },
      "source": [
        "### Running the Model"
      ]
    },
    {
      "cell_type": "code",
      "metadata": {
        "id": "8d_0kR8AQVTV",
        "colab_type": "code",
        "colab": {
          "base_uri": "https://localhost:8080/",
          "height": 717
        },
        "outputId": "b424adb3-b1b5-49c3-e4aa-ba145e70cc11"
      },
      "source": [
        "history = model.fit(x_train, y_train,\n",
        "          batch_size=128,\n",
        "          epochs=10,\n",
        "          verbose=1,\n",
        "          validation_data=(x_test, y_test))"
      ],
      "execution_count": 24,
      "outputs": [
        {
          "output_type": "stream",
          "text": [
            "WARNING:tensorflow:From /usr/local/lib/python3.6/dist-packages/tensorflow_core/python/ops/math_grad.py:1424: where (from tensorflow.python.ops.array_ops) is deprecated and will be removed in a future version.\n",
            "Instructions for updating:\n",
            "Use tf.where in 2.0, which has the same broadcast rule as np.where\n",
            "WARNING:tensorflow:From /usr/local/lib/python3.6/dist-packages/keras/backend/tensorflow_backend.py:1033: The name tf.assign_add is deprecated. Please use tf.compat.v1.assign_add instead.\n",
            "\n",
            "WARNING:tensorflow:From /usr/local/lib/python3.6/dist-packages/keras/backend/tensorflow_backend.py:1020: The name tf.assign is deprecated. Please use tf.compat.v1.assign instead.\n",
            "\n",
            "WARNING:tensorflow:From /usr/local/lib/python3.6/dist-packages/keras/backend/tensorflow_backend.py:3005: The name tf.Session is deprecated. Please use tf.compat.v1.Session instead.\n",
            "\n",
            "Train on 60000 samples, validate on 10000 samples\n",
            "Epoch 1/10\n",
            "WARNING:tensorflow:From /usr/local/lib/python3.6/dist-packages/keras/backend/tensorflow_backend.py:190: The name tf.get_default_session is deprecated. Please use tf.compat.v1.get_default_session instead.\n",
            "\n",
            "WARNING:tensorflow:From /usr/local/lib/python3.6/dist-packages/keras/backend/tensorflow_backend.py:197: The name tf.ConfigProto is deprecated. Please use tf.compat.v1.ConfigProto instead.\n",
            "\n",
            "WARNING:tensorflow:From /usr/local/lib/python3.6/dist-packages/keras/backend/tensorflow_backend.py:207: The name tf.global_variables is deprecated. Please use tf.compat.v1.global_variables instead.\n",
            "\n",
            "WARNING:tensorflow:From /usr/local/lib/python3.6/dist-packages/keras/backend/tensorflow_backend.py:216: The name tf.is_variable_initialized is deprecated. Please use tf.compat.v1.is_variable_initialized instead.\n",
            "\n",
            "WARNING:tensorflow:From /usr/local/lib/python3.6/dist-packages/keras/backend/tensorflow_backend.py:223: The name tf.variables_initializer is deprecated. Please use tf.compat.v1.variables_initializer instead.\n",
            "\n",
            "60000/60000 [==============================] - 12s 197us/step - loss: 1.4326 - acc: 0.5212 - val_loss: 0.4754 - val_acc: 0.8684\n",
            "Epoch 2/10\n",
            "60000/60000 [==============================] - 4s 72us/step - loss: 0.3558 - acc: 0.8973 - val_loss: 0.2591 - val_acc: 0.9218\n",
            "Epoch 3/10\n",
            "60000/60000 [==============================] - 4s 72us/step - loss: 0.2358 - acc: 0.9283 - val_loss: 0.1881 - val_acc: 0.9432\n",
            "Epoch 4/10\n",
            "60000/60000 [==============================] - 4s 71us/step - loss: 0.1792 - acc: 0.9448 - val_loss: 0.1523 - val_acc: 0.9560\n",
            "Epoch 5/10\n",
            "60000/60000 [==============================] - 4s 73us/step - loss: 0.1444 - acc: 0.9560 - val_loss: 0.1337 - val_acc: 0.9596\n",
            "Epoch 6/10\n",
            "60000/60000 [==============================] - 4s 71us/step - loss: 0.1206 - acc: 0.9627 - val_loss: 0.1042 - val_acc: 0.9683\n",
            "Epoch 7/10\n",
            "60000/60000 [==============================] - 4s 74us/step - loss: 0.1030 - acc: 0.9682 - val_loss: 0.0885 - val_acc: 0.9715\n",
            "Epoch 8/10\n",
            "60000/60000 [==============================] - 4s 72us/step - loss: 0.0909 - acc: 0.9718 - val_loss: 0.0777 - val_acc: 0.9752\n",
            "Epoch 9/10\n",
            "60000/60000 [==============================] - 4s 74us/step - loss: 0.0790 - acc: 0.9757 - val_loss: 0.0674 - val_acc: 0.9785\n",
            "Epoch 10/10\n",
            "60000/60000 [==============================] - 4s 74us/step - loss: 0.0723 - acc: 0.9777 - val_loss: 0.0695 - val_acc: 0.9771\n"
          ],
          "name": "stdout"
        }
      ]
    },
    {
      "cell_type": "code",
      "metadata": {
        "id": "AOOyGRXbWn6z",
        "colab_type": "code",
        "colab": {
          "base_uri": "https://localhost:8080/",
          "height": 51
        },
        "outputId": "e689a488-a381-4702-daad-cf38588420ae"
      },
      "source": [
        "score = model.evaluate(x_test, y_test, verbose=0)\n",
        "print('Test loss:', score[0])\n",
        "print('Test accuracy:', score[1])"
      ],
      "execution_count": 25,
      "outputs": [
        {
          "output_type": "stream",
          "text": [
            "Test loss: 0.06950962834358215\n",
            "Test accuracy: 0.9771\n"
          ],
          "name": "stdout"
        }
      ]
    },
    {
      "cell_type": "markdown",
      "metadata": {
        "id": "3fD4qP3qWFOO",
        "colab_type": "text"
      },
      "source": [
        "### Loss-Accuracy Graph"
      ]
    },
    {
      "cell_type": "code",
      "metadata": {
        "id": "v6bGHLtTQVM1",
        "colab_type": "code",
        "colab": {}
      },
      "source": [
        "def loss_acc_graph(history):\n",
        "  plt.plot(history.history['acc'])\n",
        "  plt.plot(history.history['val_acc'])\n",
        "  plt.title('Model accuracy')\n",
        "  plt.ylabel('Accuracy')\n",
        "  plt.xlabel('Epoch')\n",
        "  plt.legend(['Train', 'Test'], loc='upper left')\n",
        "  plt.grid()\n",
        "  plt.show()\n",
        "\n",
        "  # Plot training & validation loss values\n",
        "  plt.plot(history.history['loss'])\n",
        "  plt.plot(history.history['val_loss'])\n",
        "  plt.title('Model loss')\n",
        "  plt.ylabel('Loss')\n",
        "  plt.xlabel('Epoch')\n",
        "  plt.legend(['Train', 'Test'], loc='upper left')\n",
        "  plt.grid()\n",
        "  plt.show()"
      ],
      "execution_count": 0,
      "outputs": []
    },
    {
      "cell_type": "code",
      "metadata": {
        "id": "qNZYAuIeQVHq",
        "colab_type": "code",
        "colab": {
          "base_uri": "https://localhost:8080/",
          "height": 573
        },
        "outputId": "256b514c-559c-45c4-b366-8d30a9db3bcc"
      },
      "source": [
        "loss_acc_graph(history=history)"
      ],
      "execution_count": 27,
      "outputs": [
        {
          "output_type": "display_data",
          "data": {
            "image/png": "[encoded data removed]",
            "text/plain": [
              "<Figure size 432x288 with 1 Axes>"
            ]
          },
          "metadata": {
            "tags": []
          }
        },
        {
          "output_type": "display_data",
          "data": {
            "image/png": "[encoded data removed]",
            "text/plain": [
              "<Figure size 432x288 with 1 Axes>"
            ]
          },
          "metadata": {
            "tags": []
          }
        }
      ]
    },
    {
      "cell_type": "markdown",
      "metadata": {
        "id": "8qriqHR_W15K",
        "colab_type": "text"
      },
      "source": [
        "### Weight vectors Analayis"
      ]
    },
    {
      "cell_type": "code",
      "metadata": {
        "id": "qkl1rfvWBiyf",
        "colab_type": "code",
        "colab": {}
      },
      "source": [
        "w_after = model.get_weights()"
      ],
      "execution_count": 0,
      "outputs": []
    },
    {
      "cell_type": "code",
      "metadata": {
        "id": "Tmc2-4RJBixC",
        "colab_type": "code",
        "colab": {
          "base_uri": "https://localhost:8080/",
          "height": 527
        },
        "outputId": "7fdd2a31-f679-4ffc-ddde-9a28614dcf0a"
      },
      "source": [
        "for x in range(len(w_after)):\n",
        "  print(\"*\"*120)\n",
        "  print(type(w_after[x]))\n",
        "  print(w_after[x].shape)"
      ],
      "execution_count": 30,
      "outputs": [
        {
          "output_type": "stream",
          "text": [
            "************************************************************************************************************************\n",
            "<class 'numpy.ndarray'>\n",
            "(5, 5, 1, 6)\n",
            "************************************************************************************************************************\n",
            "<class 'numpy.ndarray'>\n",
            "(6,)\n",
            "************************************************************************************************************************\n",
            "<class 'numpy.ndarray'>\n",
            "(5, 5, 6, 16)\n",
            "************************************************************************************************************************\n",
            "<class 'numpy.ndarray'>\n",
            "(16,)\n",
            "************************************************************************************************************************\n",
            "<class 'numpy.ndarray'>\n",
            "(400, 120)\n",
            "************************************************************************************************************************\n",
            "<class 'numpy.ndarray'>\n",
            "(120,)\n",
            "************************************************************************************************************************\n",
            "<class 'numpy.ndarray'>\n",
            "(120, 84)\n",
            "************************************************************************************************************************\n",
            "<class 'numpy.ndarray'>\n",
            "(84,)\n",
            "************************************************************************************************************************\n",
            "<class 'numpy.ndarray'>\n",
            "(84, 10)\n",
            "************************************************************************************************************************\n",
            "<class 'numpy.ndarray'>\n",
            "(10,)\n"
          ],
          "name": "stdout"
        }
      ]
    },
    {
      "cell_type": "markdown",
      "metadata": {
        "id": "czlGQmkpXJl1",
        "colab_type": "text"
      },
      "source": [
        "**(5, 5, 1, 6)** --> (5X5 Kernel) of total 6 layers + 1 channel\n",
        "\n",
        "**(6,)** --> 6 bias term\n",
        "\n",
        "**(5, 5, 6, 16)** --> (5X5 Kernel) of total 16 layers + 1 channel\n",
        "\n",
        "**(16,)** --> 16 bias Term\n",
        "\n",
        "**(400, 120)** --> 120 Fully connected layer activation (120 Sigmoid Activation)\n",
        "\n",
        "**(120,)** --> 120 bias term\n",
        "\n",
        "**(120, 84)** --> 120 fully connected Sigmoid to 84 Fully conneted Sigmoid\n",
        "\n",
        "**(84,)** --> Bias\n",
        "\n",
        "**(84, 10)** --> 80 fully connected Sigmoid to 10 Fully conneted Softmax (for 10 class classification)\n"
      ]
    },
    {
      "cell_type": "code",
      "metadata": {
        "id": "30bd8l_NBitE",
        "colab_type": "code",
        "colab": {}
      },
      "source": [
        ""
      ],
      "execution_count": 0,
      "outputs": []
    },
    {
      "cell_type": "code",
      "metadata": {
        "id": "DpRXUIOWXGim",
        "colab_type": "code",
        "colab": {}
      },
      "source": [
        ""
      ],
      "execution_count": 0,
      "outputs": []
    },
    {
      "cell_type": "code",
      "metadata": {
        "id": "PAETHukZXGdZ",
        "colab_type": "code",
        "colab": {}
      },
      "source": [
        ""
      ],
      "execution_count": 0,
      "outputs": []
    }
  ]
}